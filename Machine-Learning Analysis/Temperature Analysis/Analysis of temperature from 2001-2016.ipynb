{
 "cells": [
  {
   "cell_type": "code",
   "execution_count": 3,
   "metadata": {},
   "outputs": [],
   "source": [
    "import numpy as np\n",
    "import pandas as pd\n",
    "import matplotlib.pyplot as plt\n",
    "import seaborn as sb\n",
    "df = pd.read_csv('indian_temp.csv')"
   ]
  },
  {
   "cell_type": "code",
   "execution_count": 4,
   "metadata": {},
   "outputs": [
    {
     "data": {
      "text/html": [
       "<div>\n",
       "<style scoped>\n",
       "    .dataframe tbody tr th:only-of-type {\n",
       "        vertical-align: middle;\n",
       "    }\n",
       "\n",
       "    .dataframe tbody tr th {\n",
       "        vertical-align: top;\n",
       "    }\n",
       "\n",
       "    .dataframe thead th {\n",
       "        text-align: right;\n",
       "    }\n",
       "</style>\n",
       "<table border=\"1\" class=\"dataframe\">\n",
       "  <thead>\n",
       "    <tr style=\"text-align: right;\">\n",
       "      <th></th>\n",
       "      <th>YEAR</th>\n",
       "      <th>JAN</th>\n",
       "      <th>FEB</th>\n",
       "      <th>MAR</th>\n",
       "      <th>APR</th>\n",
       "      <th>MAY</th>\n",
       "      <th>JUN</th>\n",
       "      <th>JUL</th>\n",
       "      <th>AUG</th>\n",
       "      <th>SEP</th>\n",
       "      <th>OCT</th>\n",
       "      <th>NOV</th>\n",
       "      <th>DEC</th>\n",
       "    </tr>\n",
       "  </thead>\n",
       "  <tbody>\n",
       "    <tr>\n",
       "      <th>100</th>\n",
       "      <td>2001</td>\n",
       "      <td>18.50</td>\n",
       "      <td>21.00</td>\n",
       "      <td>24.12</td>\n",
       "      <td>26.90</td>\n",
       "      <td>29.46</td>\n",
       "      <td>28.13</td>\n",
       "      <td>27.63</td>\n",
       "      <td>27.62</td>\n",
       "      <td>26.86</td>\n",
       "      <td>25.49</td>\n",
       "      <td>22.51</td>\n",
       "      <td>19.55</td>\n",
       "    </tr>\n",
       "    <tr>\n",
       "      <th>101</th>\n",
       "      <td>2002</td>\n",
       "      <td>18.78</td>\n",
       "      <td>20.52</td>\n",
       "      <td>24.44</td>\n",
       "      <td>27.66</td>\n",
       "      <td>29.56</td>\n",
       "      <td>28.77</td>\n",
       "      <td>28.47</td>\n",
       "      <td>27.27</td>\n",
       "      <td>26.43</td>\n",
       "      <td>25.44</td>\n",
       "      <td>23.17</td>\n",
       "      <td>19.87</td>\n",
       "    </tr>\n",
       "    <tr>\n",
       "      <th>102</th>\n",
       "      <td>2003</td>\n",
       "      <td>18.60</td>\n",
       "      <td>21.03</td>\n",
       "      <td>23.62</td>\n",
       "      <td>27.29</td>\n",
       "      <td>28.64</td>\n",
       "      <td>29.01</td>\n",
       "      <td>27.53</td>\n",
       "      <td>27.25</td>\n",
       "      <td>26.75</td>\n",
       "      <td>24.92</td>\n",
       "      <td>22.17</td>\n",
       "      <td>19.59</td>\n",
       "    </tr>\n",
       "    <tr>\n",
       "      <th>103</th>\n",
       "      <td>2004</td>\n",
       "      <td>18.83</td>\n",
       "      <td>21.03</td>\n",
       "      <td>26.19</td>\n",
       "      <td>27.38</td>\n",
       "      <td>28.12</td>\n",
       "      <td>27.94</td>\n",
       "      <td>27.44</td>\n",
       "      <td>27.16</td>\n",
       "      <td>26.80</td>\n",
       "      <td>24.34</td>\n",
       "      <td>22.43</td>\n",
       "      <td>19.93</td>\n",
       "    </tr>\n",
       "    <tr>\n",
       "      <th>104</th>\n",
       "      <td>2005</td>\n",
       "      <td>19.07</td>\n",
       "      <td>20.51</td>\n",
       "      <td>24.14</td>\n",
       "      <td>26.62</td>\n",
       "      <td>28.22</td>\n",
       "      <td>28.99</td>\n",
       "      <td>27.34</td>\n",
       "      <td>27.41</td>\n",
       "      <td>26.82</td>\n",
       "      <td>24.84</td>\n",
       "      <td>21.73</td>\n",
       "      <td>19.23</td>\n",
       "    </tr>\n",
       "    <tr>\n",
       "      <th>105</th>\n",
       "      <td>2006</td>\n",
       "      <td>19.96</td>\n",
       "      <td>23.02</td>\n",
       "      <td>23.91</td>\n",
       "      <td>26.83</td>\n",
       "      <td>28.82</td>\n",
       "      <td>28.13</td>\n",
       "      <td>27.92</td>\n",
       "      <td>27.15</td>\n",
       "      <td>26.42</td>\n",
       "      <td>25.41</td>\n",
       "      <td>22.59</td>\n",
       "      <td>19.99</td>\n",
       "    </tr>\n",
       "    <tr>\n",
       "      <th>106</th>\n",
       "      <td>2007</td>\n",
       "      <td>19.24</td>\n",
       "      <td>20.97</td>\n",
       "      <td>23.52</td>\n",
       "      <td>27.72</td>\n",
       "      <td>28.84</td>\n",
       "      <td>28.31</td>\n",
       "      <td>27.66</td>\n",
       "      <td>27.37</td>\n",
       "      <td>26.61</td>\n",
       "      <td>24.92</td>\n",
       "      <td>22.40</td>\n",
       "      <td>19.65</td>\n",
       "    </tr>\n",
       "    <tr>\n",
       "      <th>107</th>\n",
       "      <td>2008</td>\n",
       "      <td>18.49</td>\n",
       "      <td>19.83</td>\n",
       "      <td>24.43</td>\n",
       "      <td>26.54</td>\n",
       "      <td>28.42</td>\n",
       "      <td>28.10</td>\n",
       "      <td>27.50</td>\n",
       "      <td>27.00</td>\n",
       "      <td>26.44</td>\n",
       "      <td>25.47</td>\n",
       "      <td>22.51</td>\n",
       "      <td>20.62</td>\n",
       "    </tr>\n",
       "    <tr>\n",
       "      <th>108</th>\n",
       "      <td>2009</td>\n",
       "      <td>19.79</td>\n",
       "      <td>21.66</td>\n",
       "      <td>24.55</td>\n",
       "      <td>27.35</td>\n",
       "      <td>28.71</td>\n",
       "      <td>28.77</td>\n",
       "      <td>27.83</td>\n",
       "      <td>27.85</td>\n",
       "      <td>27.11</td>\n",
       "      <td>25.20</td>\n",
       "      <td>22.31</td>\n",
       "      <td>20.22</td>\n",
       "    </tr>\n",
       "    <tr>\n",
       "      <th>109</th>\n",
       "      <td>2010</td>\n",
       "      <td>19.15</td>\n",
       "      <td>21.23</td>\n",
       "      <td>26.53</td>\n",
       "      <td>28.40</td>\n",
       "      <td>29.19</td>\n",
       "      <td>28.51</td>\n",
       "      <td>27.55</td>\n",
       "      <td>27.33</td>\n",
       "      <td>26.60</td>\n",
       "      <td>25.58</td>\n",
       "      <td>22.98</td>\n",
       "      <td>19.22</td>\n",
       "    </tr>\n",
       "    <tr>\n",
       "      <th>110</th>\n",
       "      <td>2011</td>\n",
       "      <td>18.32</td>\n",
       "      <td>20.79</td>\n",
       "      <td>24.11</td>\n",
       "      <td>26.10</td>\n",
       "      <td>28.92</td>\n",
       "      <td>28.60</td>\n",
       "      <td>27.60</td>\n",
       "      <td>27.20</td>\n",
       "      <td>26.70</td>\n",
       "      <td>25.51</td>\n",
       "      <td>22.84</td>\n",
       "      <td>19.84</td>\n",
       "    </tr>\n",
       "    <tr>\n",
       "      <th>111</th>\n",
       "      <td>2012</td>\n",
       "      <td>18.25</td>\n",
       "      <td>20.43</td>\n",
       "      <td>23.98</td>\n",
       "      <td>26.89</td>\n",
       "      <td>28.72</td>\n",
       "      <td>28.91</td>\n",
       "      <td>27.98</td>\n",
       "      <td>27.31</td>\n",
       "      <td>26.65</td>\n",
       "      <td>24.85</td>\n",
       "      <td>22.26</td>\n",
       "      <td>19.91</td>\n",
       "    </tr>\n",
       "    <tr>\n",
       "      <th>112</th>\n",
       "      <td>2013</td>\n",
       "      <td>18.88</td>\n",
       "      <td>21.07</td>\n",
       "      <td>24.53</td>\n",
       "      <td>26.97</td>\n",
       "      <td>29.06</td>\n",
       "      <td>28.24</td>\n",
       "      <td>27.50</td>\n",
       "      <td>27.22</td>\n",
       "      <td>26.87</td>\n",
       "      <td>25.63</td>\n",
       "      <td>22.18</td>\n",
       "      <td>19.69</td>\n",
       "    </tr>\n",
       "    <tr>\n",
       "      <th>113</th>\n",
       "      <td>2014</td>\n",
       "      <td>18.81</td>\n",
       "      <td>20.35</td>\n",
       "      <td>23.34</td>\n",
       "      <td>26.91</td>\n",
       "      <td>28.45</td>\n",
       "      <td>29.42</td>\n",
       "      <td>28.07</td>\n",
       "      <td>27.42</td>\n",
       "      <td>26.61</td>\n",
       "      <td>25.38</td>\n",
       "      <td>22.53</td>\n",
       "      <td>19.50</td>\n",
       "    </tr>\n",
       "    <tr>\n",
       "      <th>114</th>\n",
       "      <td>2015</td>\n",
       "      <td>19.02</td>\n",
       "      <td>21.23</td>\n",
       "      <td>23.52</td>\n",
       "      <td>26.52</td>\n",
       "      <td>28.82</td>\n",
       "      <td>28.15</td>\n",
       "      <td>28.03</td>\n",
       "      <td>27.64</td>\n",
       "      <td>27.04</td>\n",
       "      <td>25.82</td>\n",
       "      <td>22.95</td>\n",
       "      <td>20.21</td>\n",
       "    </tr>\n",
       "    <tr>\n",
       "      <th>115</th>\n",
       "      <td>2016</td>\n",
       "      <td>20.92</td>\n",
       "      <td>23.58</td>\n",
       "      <td>26.61</td>\n",
       "      <td>29.56</td>\n",
       "      <td>30.41</td>\n",
       "      <td>29.70</td>\n",
       "      <td>28.18</td>\n",
       "      <td>28.17</td>\n",
       "      <td>27.72</td>\n",
       "      <td>26.81</td>\n",
       "      <td>23.90</td>\n",
       "      <td>21.89</td>\n",
       "    </tr>\n",
       "  </tbody>\n",
       "</table>\n",
       "</div>"
      ],
      "text/plain": [
       "     YEAR    JAN    FEB    MAR    APR    MAY    JUN    JUL    AUG    SEP  \\\n",
       "100  2001  18.50  21.00  24.12  26.90  29.46  28.13  27.63  27.62  26.86   \n",
       "101  2002  18.78  20.52  24.44  27.66  29.56  28.77  28.47  27.27  26.43   \n",
       "102  2003  18.60  21.03  23.62  27.29  28.64  29.01  27.53  27.25  26.75   \n",
       "103  2004  18.83  21.03  26.19  27.38  28.12  27.94  27.44  27.16  26.80   \n",
       "104  2005  19.07  20.51  24.14  26.62  28.22  28.99  27.34  27.41  26.82   \n",
       "105  2006  19.96  23.02  23.91  26.83  28.82  28.13  27.92  27.15  26.42   \n",
       "106  2007  19.24  20.97  23.52  27.72  28.84  28.31  27.66  27.37  26.61   \n",
       "107  2008  18.49  19.83  24.43  26.54  28.42  28.10  27.50  27.00  26.44   \n",
       "108  2009  19.79  21.66  24.55  27.35  28.71  28.77  27.83  27.85  27.11   \n",
       "109  2010  19.15  21.23  26.53  28.40  29.19  28.51  27.55  27.33  26.60   \n",
       "110  2011  18.32  20.79  24.11  26.10  28.92  28.60  27.60  27.20  26.70   \n",
       "111  2012  18.25  20.43  23.98  26.89  28.72  28.91  27.98  27.31  26.65   \n",
       "112  2013  18.88  21.07  24.53  26.97  29.06  28.24  27.50  27.22  26.87   \n",
       "113  2014  18.81  20.35  23.34  26.91  28.45  29.42  28.07  27.42  26.61   \n",
       "114  2015  19.02  21.23  23.52  26.52  28.82  28.15  28.03  27.64  27.04   \n",
       "115  2016  20.92  23.58  26.61  29.56  30.41  29.70  28.18  28.17  27.72   \n",
       "\n",
       "       OCT    NOV    DEC  \n",
       "100  25.49  22.51  19.55  \n",
       "101  25.44  23.17  19.87  \n",
       "102  24.92  22.17  19.59  \n",
       "103  24.34  22.43  19.93  \n",
       "104  24.84  21.73  19.23  \n",
       "105  25.41  22.59  19.99  \n",
       "106  24.92  22.40  19.65  \n",
       "107  25.47  22.51  20.62  \n",
       "108  25.20  22.31  20.22  \n",
       "109  25.58  22.98  19.22  \n",
       "110  25.51  22.84  19.84  \n",
       "111  24.85  22.26  19.91  \n",
       "112  25.63  22.18  19.69  \n",
       "113  25.38  22.53  19.50  \n",
       "114  25.82  22.95  20.21  \n",
       "115  26.81  23.90  21.89  "
      ]
     },
     "execution_count": 4,
     "metadata": {},
     "output_type": "execute_result"
    }
   ],
   "source": [
    "df1 = pd.read_excel('indian_temp.xlsx')\n",
    "df1\n",
    "df2 = df1.iloc[-16:,0:13]\n",
    "df2"
   ]
  },
  {
   "cell_type": "markdown",
   "metadata": {},
   "source": [
    "# Monthly Tempratures"
   ]
  },
  {
   "cell_type": "markdown",
   "metadata": {},
   "source": [
    "### JAN"
   ]
  },
  {
   "cell_type": "code",
   "execution_count": 11,
   "metadata": {},
   "outputs": [
    {
     "data": {
      "text/plain": [
       "<matplotlib.axes._subplots.AxesSubplot at 0x1a24e3b8d0>"
      ]
     },
     "execution_count": 11,
     "metadata": {},
     "output_type": "execute_result"
    },
    {
     "data": {
      "image/png": "[encoded data removed]",
      "text/plain": [
       "<Figure size 1440x576 with 1 Axes>"
      ]
     },
     "metadata": {},
     "output_type": "display_data"
    }
   ],
   "source": [
    "plt.figure(figsize=(20,8))\n",
    "sb.barplot(x='YEAR',y='JAN',data=df2)"
   ]
  },
  {
   "cell_type": "markdown",
   "metadata": {},
   "source": [
    "### FEB"
   ]
  },
  {
   "cell_type": "code",
   "execution_count": 12,
   "metadata": {},
   "outputs": [
    {
     "data": {
      "text/plain": [
       "<matplotlib.axes._subplots.AxesSubplot at 0x1a258332e8>"
      ]
     },
     "execution_count": 12,
     "metadata": {},
     "output_type": "execute_result"
    },
    {
     "data": {
      "image/png": "[encoded data removed]",
      "text/plain": [
       "<Figure size 1440x576 with 1 Axes>"
      ]
     },
     "metadata": {},
     "output_type": "display_data"
    }
   ],
   "source": [
    "plt.figure(figsize=(20,8))\n",
    "sb.barplot(x='YEAR',y='FEB',data=df2)"
   ]
  },
  {
   "cell_type": "markdown",
   "metadata": {},
   "source": [
    "### MAR"
   ]
  },
  {
   "cell_type": "code",
   "execution_count": 13,
   "metadata": {},
   "outputs": [
    {
     "data": {
      "text/plain": [
       "<matplotlib.axes._subplots.AxesSubplot at 0x1a25aebdd8>"
      ]
     },
     "execution_count": 13,
     "metadata": {},
     "output_type": "execute_result"
    },
    {
     "data": {
      "image/png": "[encoded data removed]",
      "text/plain": [
       "<Figure size 1440x576 with 1 Axes>"
      ]
     },
     "metadata": {},
     "output_type": "display_data"
    }
   ],
   "source": [
    "plt.figure(figsize=(20,8))\n",
    "sb.barplot(x='YEAR',y='MAR',data=df2)"
   ]
  },
  {
   "cell_type": "markdown",
   "metadata": {},
   "source": [
    "### APR"
   ]
  },
  {
   "cell_type": "code",
   "execution_count": 14,
   "metadata": {},
   "outputs": [
    {
     "data": {
      "text/plain": [
       "<matplotlib.axes._subplots.AxesSubplot at 0x1a25b99048>"
      ]
     },
     "execution_count": 14,
     "metadata": {},
     "output_type": "execute_result"
    },
    {
     "data": {
      "image/png": "[encoded data removed]",
      "text/plain": [
       "<Figure size 1440x576 with 1 Axes>"
      ]
     },
     "metadata": {},
     "output_type": "display_data"
    }
   ],
   "source": [
    "plt.figure(figsize=(20,8))\n",
    "sb.barplot(x='YEAR',y='APR',data=df2)"
   ]
  },
  {
   "cell_type": "code",
   "execution_count": null,
   "metadata": {},
   "outputs": [],
   "source": []
  }
 ],
 "metadata": {
  "kernelspec": {
   "display_name": "Python 3",
   "language": "python",
   "name": "python3"
  },
  "language_info": {
   "codemirror_mode": {
    "name": "ipython",
    "version": 3
   },
   "file_extension": ".py",
   "mimetype": "text/x-python",
   "name": "python",
   "nbconvert_exporter": "python",
   "pygments_lexer": "ipython3",
   "version": "3.6.6"
  }
 },
 "nbformat": 4,
 "nbformat_minor": 2
}
